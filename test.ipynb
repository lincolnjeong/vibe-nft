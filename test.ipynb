{
 "cells": [
  {
   "cell_type": "code",
   "execution_count": 8,
   "metadata": {
    "collapsed": true
   },
   "outputs": [],
   "source": [
    "import requests"
   ]
  },
  {
   "cell_type": "code",
   "execution_count": 1,
   "outputs": [],
   "source": [
    "import json\n",
    "\n",
    "def write_json(file_path, data):\n",
    "    with open(file_path, 'w', encoding='utf-8') as file:\n",
    "        json.dump(data, file, indent=\"\\t\")\n",
    "    print('done to {}'.format(file_path))\n",
    "\n",
    "def read_json(file_path):\n",
    "    with open(file_path, 'r') as file:\n",
    "        data = json.load(file)\n",
    "    return data"
   ],
   "metadata": {
    "collapsed": false,
    "pycharm": {
     "name": "#%%\n"
    }
   }
  },
  {
   "cell_type": "code",
   "execution_count": 10,
   "outputs": [],
   "source": [
    "headers = {\n",
    "        'service-api-key': service_api_key\n",
    "    }\n",
    "res = requests.get(LBDAPIEndpoint + '/v1/time', headers=headers)"
   ],
   "metadata": {
    "collapsed": false,
    "pycharm": {
     "name": "#%%\n"
    }
   }
  },
  {
   "cell_type": "code",
   "execution_count": 11,
   "outputs": [
    {
     "data": {
      "text/plain": "{'responseTime': 1647608747100, 'statusCode': 1000, 'statusMessage': 'Success'}"
     },
     "execution_count": 11,
     "metadata": {},
     "output_type": "execute_result"
    }
   ],
   "source": [
    "res.json()"
   ],
   "metadata": {
    "collapsed": false,
    "pycharm": {
     "name": "#%%\n"
    }
   }
  },
  {
   "cell_type": "code",
   "execution_count": 12,
   "outputs": [],
   "source": [
    "import os\n",
    "\n",
    "import requests\n",
    "import random\n",
    "import string\n",
    "import time\n",
    "\n",
    "def GET_v1_services_serviceId():\n",
    "\n",
    "\n",
    "    nonce = ''.join(random.choice(string.ascii_uppercase + string.ascii_lowercase + string.digits) for _ in range(8))\n",
    "    timestamp = int(round(time.time() * 1000))\n",
    "\n",
    "\n",
    "    path = '/v1/services/service_id'\n",
    "\n",
    "    headers = {\n",
    "        'service-api-key': service_api_key,\n",
    "        'nonce': nonce,\n",
    "        'timestamp': str(timestamp)\n",
    "    }\n",
    "\n",
    "\n",
    "    signature = get_signature(method='GET', path=path, nonce=nonce, timestamp=timestamp, secret=service_api_secret)\n",
    "    headers['signature'] = signature\n",
    "\n",
    "    res = requests.get(server_url + path, headers=headers)\n",
    "    return res.json()"
   ],
   "metadata": {
    "collapsed": false,
    "pycharm": {
     "name": "#%%\n"
    }
   }
  },
  {
   "cell_type": "code",
   "execution_count": 13,
   "outputs": [],
   "source": [
    "from signature_generator import SignatureGenerator\n",
    "\n",
    "sg = SignatureGenerator()\n",
    "get_signature = sg.generate"
   ],
   "metadata": {
    "collapsed": false,
    "pycharm": {
     "name": "#%%\n"
    }
   }
  },
  {
   "cell_type": "code",
   "execution_count": 14,
   "outputs": [
    {
     "data": {
      "text/plain": "{'responseTime': 1647608748409,\n 'statusCode': 1000,\n 'statusMessage': 'Success',\n 'responseData': {'serviceId': '6c846b97-1921-4cb0-92b0-42155d4fc3ac',\n  'name': 'VIBE',\n  'description': 'VIBE',\n  'category': 'AI'}}"
     },
     "execution_count": 14,
     "metadata": {},
     "output_type": "execute_result"
    }
   ],
   "source": [
    "GET_v1_services_serviceId()"
   ],
   "metadata": {
    "collapsed": false,
    "pycharm": {
     "name": "#%%\n"
    }
   }
  },
  {
   "cell_type": "code",
   "execution_count": null,
   "outputs": [],
   "source": [],
   "metadata": {
    "collapsed": false,
    "pycharm": {
     "name": "#%%\n"
    }
   }
  }
 ],
 "metadata": {
  "kernelspec": {
   "display_name": "Python 3",
   "language": "python",
   "name": "python3"
  },
  "language_info": {
   "codemirror_mode": {
    "name": "ipython",
    "version": 2
   },
   "file_extension": ".py",
   "mimetype": "text/x-python",
   "name": "python",
   "nbconvert_exporter": "python",
   "pygments_lexer": "ipython2",
   "version": "2.7.6"
  }
 },
 "nbformat": 4,
 "nbformat_minor": 0
}