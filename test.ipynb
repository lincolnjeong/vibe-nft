{
 "cells": [
  {
   "cell_type": "code",
   "execution_count": 1,
   "metadata": {
    "collapsed": true
   },
   "outputs": [],
   "source": [
    "import requests\n",
    "import random\n",
    "import string\n",
    "import time\n",
    "from utils import *"
   ]
  },
  {
   "cell_type": "code",
   "execution_count": 2,
   "outputs": [],
   "source": [
    "config = read_json('config.env')"
   ],
   "metadata": {
    "collapsed": false,
    "pycharm": {
     "name": "#%%\n"
    }
   }
  },
  {
   "cell_type": "code",
   "execution_count": 3,
   "outputs": [],
   "source": [
    "def get_server_time():\n",
    "    headers = {\n",
    "            'service-api-key': config['service_api_key']\n",
    "        }\n",
    "    res = requests.get(config['endpoint'] + '/v1/time', headers=headers)\n",
    "    return res.json()"
   ],
   "metadata": {
    "collapsed": false,
    "pycharm": {
     "name": "#%%\n"
    }
   }
  },
  {
   "cell_type": "code",
   "execution_count": 4,
   "outputs": [
    {
     "data": {
      "text/plain": "{'responseTime': 1647614635117, 'statusCode': 1000, 'statusMessage': 'Success'}"
     },
     "execution_count": 4,
     "metadata": {},
     "output_type": "execute_result"
    }
   ],
   "source": [
    "get_server_time()"
   ],
   "metadata": {
    "collapsed": false,
    "pycharm": {
     "name": "#%%\n"
    }
   }
  },
  {
   "cell_type": "code",
   "execution_count": 5,
   "outputs": [],
   "source": [
    "from signature_generator import SignatureGenerator\n",
    "\n",
    "sg = SignatureGenerator()\n",
    "get_signature = sg.generate\n",
    "\n",
    "def GET_v1_services_serviceId():\n",
    "    nonce = ''.join(random.choice(string.ascii_uppercase + string.ascii_lowercase + string.digits) for _ in range(8))\n",
    "    timestamp = int(round(time.time() * 1000))\n",
    "\n",
    "\n",
    "    path = '/v1/services/{}'.format(config['service_id'])\n",
    "\n",
    "    headers = {\n",
    "        'service-api-key': config['service_api_key'],\n",
    "        'nonce': nonce,\n",
    "        'timestamp': str(timestamp)\n",
    "    }\n",
    "\n",
    "\n",
    "    signature = get_signature(method='GET', path=path, nonce=nonce, timestamp=timestamp, secret=config['service_api_secret'])\n",
    "    headers['signature'] = signature\n",
    "\n",
    "    res = requests.get(config['endpoint'] + path, headers=headers)\n",
    "    return res.json()"
   ],
   "metadata": {
    "collapsed": false,
    "pycharm": {
     "name": "#%%\n"
    }
   }
  },
  {
   "cell_type": "code",
   "execution_count": 6,
   "outputs": [
    {
     "data": {
      "text/plain": "{'responseTime': 1647614637319,\n 'statusCode': 1000,\n 'statusMessage': 'Success',\n 'responseData': {'serviceId': '6c846b97-1921-4cb0-92b0-42155d4fc3ac',\n  'name': 'VIBE',\n  'description': 'VIBE',\n  'category': 'AI'}}"
     },
     "execution_count": 6,
     "metadata": {},
     "output_type": "execute_result"
    }
   ],
   "source": [
    "GET_v1_services_serviceId()"
   ],
   "metadata": {
    "collapsed": false,
    "pycharm": {
     "name": "#%%\n"
    }
   }
  },
  {
   "cell_type": "code",
   "execution_count": 9,
   "outputs": [
    {
     "data": {
      "text/plain": "{'endpoint': 'https://test-api.blockchain.line.me',\n 'service_api_key': '12691c1d-1611-4b6e-92a9-fdb652dc198f',\n 'service_api_secret': '5effa8d1-3e56-41f7-96e4-88d0d9c1a7cd',\n 'service_id': '6c846b97-1921-4cb0-92b0-42155d4fc3ac',\n 'item': {'contract_id': '839271ce'},\n 'wallet_addr': 'tlink1h2wuymysqy8kvmx4py2774rf2mqt53uykynwgr',\n 'wallet_secret': 'ahJeQl5fk5SrUA2GngCL60PnJFD1aaaXzTR0eXV2DM8='}"
     },
     "execution_count": 9,
     "metadata": {},
     "output_type": "execute_result"
    }
   ],
   "source": [
    "config"
   ],
   "metadata": {
    "collapsed": false,
    "pycharm": {
     "name": "#%%\n"
    }
   }
  },
  {
   "cell_type": "code",
   "execution_count": 36,
   "outputs": [],
   "source": [
    "def issue_nft(contract_id):\n",
    "    nonce = ''.join(random.choice(string.ascii_uppercase + string.ascii_lowercase + string.digits) for _ in range(8))\n",
    "    timestamp = int(round(time.time() * 1000))\n",
    "    path = f'/v1/item-tokens/{contract_id}/non-fungibles'\n",
    "    request_body = {\n",
    "        'ownerAddress': config['wallet_addr'],\n",
    "        'ownerSecret': config['wallet_secret'],\n",
    "        'name': 'test',\n",
    "        'meta': 'test_meta'\n",
    "    }\n",
    "    headers = {\n",
    "        'service-api-key': config['service_api_key'],\n",
    "        'nonce': nonce,\n",
    "        'timestamp': str(timestamp),\n",
    "        'Content-Type': 'application/json'\n",
    "    }\n",
    "\n",
    "\n",
    "    signature = get_signature(method='POST', path=path, nonce=nonce, timestamp=timestamp, secret=config['service_api_secret'], body=request_body)\n",
    "    headers['signature'] = signature\n",
    "\n",
    "    res = requests.post(config['endpoint'] + path, headers=headers, json=request_body)\n",
    "    return res.json()\n",
    "\n",
    "def get_items(contract_id):\n",
    "    path = '/v1/item-tokens/{}/non-fungibles'.format(config['item']['contract_id'])\n",
    "    res = get_api(path)\n",
    "    return res.json()"
   ],
   "metadata": {
    "collapsed": false,
    "pycharm": {
     "name": "#%%\n"
    }
   }
  },
  {
   "cell_type": "code",
   "execution_count": 21,
   "outputs": [
    {
     "data": {
      "text/plain": "{'responseTime': 1647615416020,\n 'statusCode': 1002,\n 'statusMessage': 'Accepted',\n 'responseData': {'txHash': 'E5DD65AFBBD3F1A89791B879024A08DA2FF61F9EDEDFFFC6B3C0C00D0F0DDC86'}}"
     },
     "execution_count": 21,
     "metadata": {},
     "output_type": "execute_result"
    }
   ],
   "source": [
    "# issue_nft(config['item']['contract_id'])"
   ],
   "metadata": {
    "collapsed": false,
    "pycharm": {
     "name": "#%%\n"
    }
   }
  },
  {
   "cell_type": "code",
   "execution_count": 37,
   "outputs": [
    {
     "data": {
      "text/plain": "{'responseTime': 1647625099537,\n 'statusCode': 1000,\n 'statusMessage': 'Success',\n 'responseData': [{'tokenType': '10000003',\n   'name': 'test',\n   'meta': 'test_meta',\n   'createdAt': 1647615418030,\n   'totalSupply': '0',\n   'totalMint': '0',\n   'totalBurn': '0'},\n  {'tokenType': '10000002',\n   'name': 'test',\n   'meta': 'test_meta',\n   'createdAt': 1647614986805,\n   'totalSupply': '0',\n   'totalMint': '0',\n   'totalBurn': '0'},\n  {'tokenType': '10000001',\n   'name': 'playlist',\n   'meta': '',\n   'createdAt': 1647511671462,\n   'totalSupply': '0',\n   'totalMint': '0',\n   'totalBurn': '0'}]}"
     },
     "execution_count": 37,
     "metadata": {},
     "output_type": "execute_result"
    }
   ],
   "source": [
    "get_items(config['item']['contract_id'])"
   ],
   "metadata": {
    "collapsed": false,
    "pycharm": {
     "name": "#%%\n"
    }
   }
  },
  {
   "cell_type": "code",
   "execution_count": 33,
   "outputs": [],
   "source": [
    "def get_api(path):\n",
    "    nonce = ''.join(random.choice(string.ascii_uppercase + string.ascii_lowercase + string.digits) for _ in range(8))\n",
    "    timestamp = int(round(time.time() * 1000))\n",
    "    headers = {\n",
    "        'service-api-key': config['service_api_key'],\n",
    "        'nonce': nonce,\n",
    "        'timestamp': str(timestamp),\n",
    "        'signature': get_signature(method='GET', path=path, nonce=nonce, timestamp=timestamp, secret=config['service_api_secret']),\n",
    "    }\n",
    "    return requests.get(config['endpoint'] + path, headers=headers)"
   ],
   "metadata": {
    "collapsed": false,
    "pycharm": {
     "name": "#%%\n"
    }
   }
  },
  {
   "cell_type": "code",
   "execution_count": 34,
   "outputs": [],
   "source": [
    "def get_items_detail(contract_id, token_type):\n",
    "    path = '/v1/item-tokens/{}/non-fungibles/{}'.format(contract_id, token_type)\n",
    "    detail = get_api(path)\n",
    "\n",
    "    path = '/v1/item-tokens/{}/non-fungibles/{}/holders'.format(contract_id, token_type)\n",
    "    holders = get_api(path)\n",
    "    return detail.json(), holders.json()"
   ],
   "metadata": {
    "collapsed": false,
    "pycharm": {
     "name": "#%%\n"
    }
   }
  },
  {
   "cell_type": "code",
   "execution_count": 35,
   "outputs": [
    {
     "data": {
      "text/plain": "({'responseTime': 1647624994738,\n  'statusCode': 1000,\n  'statusMessage': 'Success',\n  'responseData': {'tokenType': '10000002',\n   'name': 'test',\n   'meta': 'test_meta',\n   'createdAt': 1647614986805,\n   'totalSupply': '0',\n   'totalMint': '0',\n   'totalBurn': '0',\n   'token': []}},\n {'responseTime': 1647624994933,\n  'statusCode': 1000,\n  'statusMessage': 'Success',\n  'responseData': []})"
     },
     "execution_count": 35,
     "metadata": {},
     "output_type": "execute_result"
    }
   ],
   "source": [
    "get_items_detail(config['item']['contract_id'], '10000002')"
   ],
   "metadata": {
    "collapsed": false,
    "pycharm": {
     "name": "#%%\n"
    }
   }
  },
  {
   "cell_type": "code",
   "execution_count": null,
   "outputs": [],
   "source": [],
   "metadata": {
    "collapsed": false,
    "pycharm": {
     "name": "#%%\n"
    }
   }
  }
 ],
 "metadata": {
  "kernelspec": {
   "display_name": "Python 3",
   "language": "python",
   "name": "python3"
  },
  "language_info": {
   "codemirror_mode": {
    "name": "ipython",
    "version": 2
   },
   "file_extension": ".py",
   "mimetype": "text/x-python",
   "name": "python",
   "nbconvert_exporter": "python",
   "pygments_lexer": "ipython2",
   "version": "2.7.6"
  }
 },
 "nbformat": 4,
 "nbformat_minor": 0
}