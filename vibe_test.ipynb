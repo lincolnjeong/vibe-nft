{
 "cells": [
  {
   "cell_type": "code",
   "execution_count": 1,
   "metadata": {
    "collapsed": true
   },
   "outputs": [],
   "source": [
    "import requests"
   ]
  },
  {
   "cell_type": "code",
   "execution_count": 15,
   "outputs": [],
   "source": [
    "def get_track_meta(query):\n",
    "    url = f'https://apis.naver.com/vibeWeb/musicapiweb/v3/search/track.json?query={query}&start=1&display=100&sort=RELEVANCE'\n",
    "    meta = requests.get(url).json()['response']['result']['tracks'][0]\n",
    "    track_id = meta['trackId']\n",
    "    track_title = meta['trackTitle']\n",
    "    artist_name = \", \".join([i['artistName'] for i in meta['artists']])\n",
    "    album_title = meta['album']['albumTitle']\n",
    "    album_image = meta['album']['imageUrl']\n",
    "    return {'track_id': track_id, 'track_title': track_title, 'artist_name': artist_name, 'album_title': album_title, 'album_image': album_image}"
   ],
   "metadata": {
    "collapsed": false,
    "pycharm": {
     "name": "#%%\n"
    }
   }
  },
  {
   "cell_type": "code",
   "execution_count": 24,
   "outputs": [
    {
     "name": "stdout",
     "output_type": "stream",
     "text": [
      "error on asdfadsf\n"
     ]
    }
   ],
   "source": [
    "query = 'asdfadsf, 우고츄, hustle 도끼, 릴보이, 원슈타인'\n",
    "result = []\n",
    "for q in query.split(','):\n",
    "    try:\n",
    "        result.append(get_track_meta(q))\n",
    "    except:\n",
    "        print(f'error on {q}')"
   ],
   "metadata": {
    "collapsed": false,
    "pycharm": {
     "name": "#%%\n"
    }
   }
  },
  {
   "cell_type": "code",
   "execution_count": 25,
   "outputs": [
    {
     "data": {
      "text/plain": "[{'track_id': 44424939,\n  'track_title': '우리집 고양이 츄르를 좋아해 (Feat. 염따)',\n  'artist_name': 'meenoi (미노이)',\n  'album_title': '우리집 고양이 츄르를 좋아해',\n  'album_image': 'https://musicmeta-phinf.pstatic.net/album/005/242/5242739.jpg?type=r480Fll&v=202203201451'},\n {'track_id': 2458201,\n  'track_title': 'Hustle Real Hard (Feat. Soulja Boy)',\n  'artist_name': '도끼(DOK2)',\n  'album_title': 'Hustle Real Hard',\n  'album_image': 'https://musicmeta-phinf.pstatic.net/album/000/194/194629.jpg?type=r480Fll&v=202203201451'},\n {'track_id': 43626633,\n  'track_title': '내일이 오면 (Feat. 기리보이, BIG Naughty (서동현))',\n  'artist_name': '릴보이(lIlBOI)',\n  'album_title': '쇼미더머니 9 Episode 3',\n  'album_image': 'https://musicmeta-phinf.pstatic.net/album/005/141/5141786.jpg?type=r480Fll&v=202203201451'},\n {'track_id': 54162645,\n  'track_title': '존재만으로',\n  'artist_name': '원슈타인',\n  'album_title': '스물다섯 스물하나 OST Part 4',\n  'album_image': 'https://musicmeta-phinf.pstatic.net/album/007/290/7290004.jpg?type=r480Fll&v=202203201451'}]"
     },
     "execution_count": 25,
     "metadata": {},
     "output_type": "execute_result"
    }
   ],
   "source": [
    "result"
   ],
   "metadata": {
    "collapsed": false,
    "pycharm": {
     "name": "#%%\n"
    }
   }
  },
  {
   "cell_type": "code",
   "execution_count": 26,
   "outputs": [
    {
     "data": {
      "text/plain": "str"
     },
     "execution_count": 26,
     "metadata": {},
     "output_type": "execute_result"
    }
   ],
   "source": [
    "type('d')"
   ],
   "metadata": {
    "collapsed": false,
    "pycharm": {
     "name": "#%%\n"
    }
   }
  },
  {
   "cell_type": "code",
   "execution_count": 27,
   "outputs": [
    {
     "data": {
      "text/plain": "list"
     },
     "execution_count": 27,
     "metadata": {},
     "output_type": "execute_result"
    }
   ],
   "source": [
    "type(['d'])"
   ],
   "metadata": {
    "collapsed": false,
    "pycharm": {
     "name": "#%%\n"
    }
   }
  },
  {
   "cell_type": "code",
   "execution_count": 28,
   "outputs": [
    {
     "data": {
      "text/plain": "['asdfasdfasdf']"
     },
     "execution_count": 28,
     "metadata": {},
     "output_type": "execute_result"
    }
   ],
   "source": [
    "'asdfasdfasdf'.split('./etqw')"
   ],
   "metadata": {
    "collapsed": false,
    "pycharm": {
     "name": "#%%\n"
    }
   }
  },
  {
   "cell_type": "code",
   "execution_count": 31,
   "outputs": [
    {
     "data": {
      "text/plain": "'/mint '"
     },
     "execution_count": 31,
     "metadata": {},
     "output_type": "execute_result"
    }
   ],
   "source": [
    "'/mint asdfasdfasdf'[:6]"
   ],
   "metadata": {
    "collapsed": false,
    "pycharm": {
     "name": "#%%\n"
    }
   }
  },
  {
   "cell_type": "code",
   "execution_count": 33,
   "outputs": [
    {
     "data": {
      "text/plain": "'asdfasdfasdf'"
     },
     "execution_count": 33,
     "metadata": {},
     "output_type": "execute_result"
    }
   ],
   "source": [
    "'/mint asdfasdfasdf'.replace('/mint ', '')"
   ],
   "metadata": {
    "collapsed": false,
    "pycharm": {
     "name": "#%%\n"
    }
   }
  },
  {
   "cell_type": "code",
   "execution_count": null,
   "outputs": [],
   "source": [
    "import json"
   ],
   "metadata": {
    "collapsed": false,
    "pycharm": {
     "name": "#%%\n"
    }
   }
  },
  {
   "cell_type": "code",
   "execution_count": 42,
   "outputs": [],
   "source": [
    "\n",
    "\n",
    "template = \"\"\"\n",
    "{\n",
    "  \"type\": \"bubble\",\n",
    "  \"body\": {\n",
    "    \"type\": \"box\",\n",
    "    \"layout\": \"vertical\",\n",
    "    \"contents\": [\n",
    "      {\n",
    "        \"type\": \"box\",\n",
    "        \"layout\": \"horizontal\",\n",
    "        \"contents\": [\n",
    "          {\n",
    "            \"type\": \"image\",\n",
    "            \"url\": \"https://scdn.line-apps.com/n/channel_devcenter/img/flexsnapshot/clip/clip7.jpg\",\n",
    "            \"size\": \"5xl\",\n",
    "            \"aspectMode\": \"cover\",\n",
    "            \"aspectRatio\": \"150:196\",\n",
    "            \"gravity\": \"center\",\n",
    "            \"flex\": 1\n",
    "          },\n",
    "          {\n",
    "            \"type\": \"box\",\n",
    "            \"layout\": \"vertical\",\n",
    "            \"contents\": [\n",
    "              {\n",
    "                \"type\": \"image\",\n",
    "                \"url\": \"https://scdn.line-apps.com/n/channel_devcenter/img/flexsnapshot/clip/clip8.jpg\",\n",
    "                \"size\": \"full\",\n",
    "                \"aspectMode\": \"cover\",\n",
    "                \"aspectRatio\": \"150:98\",\n",
    "                \"gravity\": \"center\"\n",
    "              },\n",
    "              {\n",
    "                \"type\": \"image\",\n",
    "                \"url\": \"https://scdn.line-apps.com/n/channel_devcenter/img/flexsnapshot/clip/clip9.jpg\",\n",
    "                \"size\": \"full\",\n",
    "                \"aspectMode\": \"cover\",\n",
    "                \"aspectRatio\": \"150:98\",\n",
    "                \"gravity\": \"center\"\n",
    "              }\n",
    "            ],\n",
    "            \"flex\": 1\n",
    "          }\n",
    "        ]\n",
    "      },\n",
    "      {\n",
    "        \"type\": \"box\",\n",
    "        \"layout\": \"horizontal\",\n",
    "        \"contents\": [\n",
    "          {\n",
    "            \"type\": \"box\",\n",
    "            \"layout\": \"vertical\",\n",
    "            \"contents\": [\n",
    "              {\n",
    "                \"type\": \"text\",\n",
    "                \"contents\": [\n",
    "                  {\n",
    "                    \"type\": \"span\",\n",
    "                    \"text\": \"Tracks\",\n",
    "                    \"weight\": \"bold\",\n",
    "                    \"color\": \"#000000\"\n",
    "                  },\n",
    "                  {\n",
    "                    \"type\": \"span\",\n",
    "                    \"text\": \" | \"\n",
    "                  },\n",
    "                  {\n",
    "                    \"type\": \"span\",\n",
    "                    \"text\": \"도끼 블랙넛 어쩌구 저쩌구\"\n",
    "                  }\n",
    "                ],\n",
    "                \"size\": \"sm\",\n",
    "                \"wrap\": true\n",
    "              },\n",
    "              {\n",
    "                \"type\": \"box\",\n",
    "                \"layout\": \"vertical\",\n",
    "                \"contents\": [\n",
    "                  {\n",
    "                    \"type\": \"text\",\n",
    "                    \"contents\": [\n",
    "                      {\n",
    "                        \"type\": \"span\",\n",
    "                        \"text\": \"위 정보로 NFT가 발행되었습니다.\"\n",
    "                      }\n",
    "                    ],\n",
    "                    \"size\": \"sm\",\n",
    "                    \"wrap\": true\n",
    "                  },\n",
    "                  {\n",
    "                    \"type\": \"box\",\n",
    "                    \"layout\": \"baseline\",\n",
    "                    \"contents\": [\n",
    "                      {\n",
    "                        \"type\": \"text\",\n",
    "                        \"size\": \"sm\",\n",
    "                        \"color\": \"#bcbcbc\",\n",
    "                        \"contents\": [\n",
    "                          {\n",
    "                            \"type\": \"span\",\n",
    "                            \"text\": \"Maker\",\n",
    "                            \"weight\": \"bold\"\n",
    "                          },\n",
    "                          {\n",
    "                            \"type\": \"span\",\n",
    "                            \"text\": \" | \"\n",
    "                          },\n",
    "                          {\n",
    "                            \"type\": \"span\",\n",
    "                            \"text\": \"maker_info\"\n",
    "                          }\n",
    "                        ]\n",
    "                      }\n",
    "                    ],\n",
    "                    \"spacing\": \"sm\",\n",
    "                    \"margin\": \"md\"\n",
    "                  },\n",
    "                  {\n",
    "                    \"type\": \"box\",\n",
    "                    \"layout\": \"baseline\",\n",
    "                    \"contents\": [\n",
    "                      {\n",
    "                        \"type\": \"text\",\n",
    "                        \"size\": \"sm\",\n",
    "                        \"color\": \"#bcbcbc\",\n",
    "                        \"contents\": [\n",
    "                          {\n",
    "                            \"type\": \"span\",\n",
    "                            \"text\": \"Tx Hash\",\n",
    "                            \"weight\": \"bold\"\n",
    "                          },\n",
    "                          {\n",
    "                            \"type\": \"span\",\n",
    "                            \"text\": \" | \"\n",
    "                          },\n",
    "                          {\n",
    "                            \"type\": \"span\",\n",
    "                            \"text\": \"tx_info\"\n",
    "                          }\n",
    "                        ]\n",
    "                      }\n",
    "                    ],\n",
    "                    \"spacing\": \"none\",\n",
    "                    \"margin\": \"none\"\n",
    "                  }\n",
    "                ]\n",
    "              }\n",
    "            ]\n",
    "          }\n",
    "        ],\n",
    "        \"spacing\": \"xl\",\n",
    "        \"paddingAll\": \"20px\"\n",
    "      }\n",
    "    ],\n",
    "    \"paddingAll\": \"0px\"\n",
    "  },\n",
    "  \"footer\": {\n",
    "    \"type\": \"box\",\n",
    "    \"layout\": \"horizontal\",\n",
    "    \"contents\": [\n",
    "      {\n",
    "        \"type\": \"button\",\n",
    "        \"action\": {\n",
    "          \"type\": \"uri\",\n",
    "          \"label\": \"토큰 확인\",\n",
    "          \"uri\": \"https://explorer.blockchain.line.me/cashew/transaction/\"\n",
    "        }\n",
    "      },\n",
    "      {\n",
    "        \"type\": \"button\",\n",
    "        \"action\": {\n",
    "          \"type\": \"uri\",\n",
    "          \"label\": \"음악 듣기\",\n",
    "          \"uri\": \"https://vibe.naver.com/\"\n",
    "        }\n",
    "      }\n",
    "    ]\n",
    "  }\n",
    "}\n",
    "\"\"\"\n",
    "def get_template():\n",
    "    return json.loads(template)"
   ],
   "metadata": {
    "collapsed": false,
    "pycharm": {
     "name": "#%%\n"
    }
   }
  },
  {
   "cell_type": "code",
   "execution_count": 43,
   "outputs": [],
   "source": [
    "tmp = get_template()"
   ],
   "metadata": {
    "collapsed": false,
    "pycharm": {
     "name": "#%%\n"
    }
   }
  },
  {
   "cell_type": "code",
   "execution_count": 54,
   "outputs": [
    {
     "data": {
      "text/plain": "[{'type': 'image',\n  'url': 'https://scdn.line-apps.com/n/channel_devcenter/img/flexsnapshot/clip/clip7.jpg',\n  'size': '5xl',\n  'aspectMode': 'cover',\n  'aspectRatio': '150:196',\n  'gravity': 'center',\n  'flex': 1},\n {'type': 'box',\n  'layout': 'vertical',\n  'contents': [{'type': 'image',\n    'url': 'https://scdn.line-apps.com/n/channel_devcenter/img/flexsnapshot/clip/clip8.jpg',\n    'size': 'full',\n    'aspectMode': 'cover',\n    'aspectRatio': '150:98',\n    'gravity': 'center'},\n   {'type': 'image',\n    'url': 'https://scdn.line-apps.com/n/channel_devcenter/img/flexsnapshot/clip/clip9.jpg',\n    'size': 'full',\n    'aspectMode': 'cover',\n    'aspectRatio': '150:98',\n    'gravity': 'center'}],\n  'flex': 1}]"
     },
     "execution_count": 54,
     "metadata": {},
     "output_type": "execute_result"
    }
   ],
   "source": [
    "tmp['body']['contents'][0]['contents']"
   ],
   "metadata": {
    "collapsed": false,
    "pycharm": {
     "name": "#%%\n"
    }
   }
  },
  {
   "cell_type": "code",
   "execution_count": 75,
   "outputs": [],
   "source": [
    "def make_image(images):\n",
    "    if len(images) == 1:\n",
    "        return [{\n",
    "            \"type\": \"image\",\n",
    "            \"url\": images[0],\n",
    "            \"size\": \"full\",\n",
    "            \"aspectMode\": \"cover\",\n",
    "            \"aspectRatio\": \"300:196\",\n",
    "            \"gravity\": \"center\",\n",
    "            \"flex\": 1\n",
    "        }]\n",
    "    elif len(images) == 2:\n",
    "        return [\n",
    "            {\n",
    "                \"type\": \"image\",\n",
    "                \"url\": images[0],\n",
    "                \"size\": \"5xl\",\n",
    "                \"aspectMode\": \"cover\",\n",
    "                \"aspectRatio\": \"150:196\",\n",
    "                \"gravity\": \"center\",\n",
    "                \"flex\": 1\n",
    "            },\n",
    "            {\n",
    "                \"type\": \"box\",\n",
    "                \"layout\": \"vertical\",\n",
    "                \"contents\": [\n",
    "                    {\n",
    "                        \"type\": \"image\",\n",
    "                        \"url\": str(images[1]),\n",
    "                        \"size\": \"full\",\n",
    "                        \"aspectMode\": \"cover\",\n",
    "                        \"aspectRatio\": \"150:196\",\n",
    "                        \"gravity\": \"center\"\n",
    "                    }\n",
    "                ],\n",
    "                \"flex\": 1\n",
    "            }\n",
    "        ]\n",
    "    elif len(images) >= 3:\n",
    "        return [\n",
    "            {\n",
    "                \"type\": \"image\",\n",
    "                \"url\": str(images[0]),\n",
    "                \"size\": \"5xl\",\n",
    "                \"aspectMode\": \"cover\",\n",
    "                \"aspectRatio\": \"150:196\",\n",
    "                \"gravity\": \"center\",\n",
    "                \"flex\": 1\n",
    "            },\n",
    "            {\n",
    "                \"type\": \"box\",\n",
    "                \"layout\": \"vertical\",\n",
    "                \"contents\": [\n",
    "                    {\n",
    "                        \"type\": \"image\",\n",
    "                        \"url\": str(images[1]),\n",
    "                        \"size\": \"full\",\n",
    "                        \"aspectMode\": \"cover\",\n",
    "                        \"aspectRatio\": \"150:98\",\n",
    "                        \"gravity\": \"center\"\n",
    "                    },\n",
    "                    {\n",
    "                        \"type\": \"image\",\n",
    "                        \"url\": images[2],\n",
    "                        \"size\": \"full\",\n",
    "                        \"aspectMode\": \"cover\",\n",
    "                        \"aspectRatio\": \"150:98\",\n",
    "                        \"gravity\": \"center\"\n",
    "                    }\n",
    "                ],\n",
    "                \"flex\": 1\n",
    "            }\n",
    "        ]"
   ],
   "metadata": {
    "collapsed": false,
    "pycharm": {
     "name": "#%%\n"
    }
   }
  },
  {
   "cell_type": "code",
   "execution_count": 76,
   "outputs": [],
   "source": [
    "images = ['https://musicmeta-phinf.pstatic.net/album/007/340/7340567.jpg?type=r480Fll&v=202203210131', 'https://musicmeta-phinf.pstatic.net/album/006/650/6650319.jpg?type=r480Fll&v=202203210131', 'https://musicmeta-phinf.pstatic.net/album/006/650/6650319.jpg?type=r480Fll&v=202203210131']"
   ],
   "metadata": {
    "collapsed": false,
    "pycharm": {
     "name": "#%%\n"
    }
   }
  },
  {
   "cell_type": "code",
   "execution_count": 77,
   "outputs": [],
   "source": [
    "tmp['body']['contents'][0]['contents'] = make_image(images)"
   ],
   "metadata": {
    "collapsed": false,
    "pycharm": {
     "name": "#%%\n"
    }
   }
  },
  {
   "cell_type": "code",
   "execution_count": 78,
   "outputs": [
    {
     "name": "stdout",
     "output_type": "stream",
     "text": [
      "{\"type\": \"bubble\", \"body\": {\"type\": \"box\", \"layout\": \"vertical\", \"contents\": [{\"type\": \"box\", \"layout\": \"horizontal\", \"contents\": [{\"type\": \"image\", \"url\": \"https://musicmeta-phinf.pstatic.net/album/007/340/7340567.jpg?type=r480Fll&v=202203210131\", \"size\": \"5xl\", \"aspectMode\": \"cover\", \"aspectRatio\": \"150:196\", \"gravity\": \"center\", \"flex\": 1}, {\"type\": \"box\", \"layout\": \"vertical\", \"contents\": [{\"type\": \"image\", \"url\": \"https://musicmeta-phinf.pstatic.net/album/006/650/6650319.jpg?type=r480Fll&v=202203210131\", \"size\": \"full\", \"aspectMode\": \"cover\", \"aspectRatio\": \"150:98\", \"gravity\": \"center\"}, {\"type\": \"image\", \"url\": \"https://musicmeta-phinf.pstatic.net/album/006/650/6650319.jpg?type=r480Fll&v=202203210131\", \"size\": \"full\", \"aspectMode\": \"cover\", \"aspectRatio\": \"150:98\", \"gravity\": \"center\"}], \"flex\": 1}]}, {\"type\": \"box\", \"layout\": \"horizontal\", \"contents\": [{\"type\": \"box\", \"layout\": \"vertical\", \"contents\": [{\"type\": \"text\", \"contents\": [{\"type\": \"span\", \"text\": \"Tracks\", \"weight\": \"bold\", \"color\": \"#000000\"}, {\"type\": \"span\", \"text\": \" | \"}, {\"type\": \"span\", \"text\": \"\\ub3c4\\ub07c \\ube14\\ub799\\ub11b \\uc5b4\\uca4c\\uad6c \\uc800\\uca4c\\uad6c\"}], \"size\": \"sm\", \"wrap\": true}, {\"type\": \"box\", \"layout\": \"vertical\", \"contents\": [{\"type\": \"text\", \"contents\": [{\"type\": \"span\", \"text\": \"\\uc704 \\uc815\\ubcf4\\ub85c NFT\\uac00 \\ubc1c\\ud589\\ub418\\uc5c8\\uc2b5\\ub2c8\\ub2e4.\"}], \"size\": \"sm\", \"wrap\": true}, {\"type\": \"box\", \"layout\": \"baseline\", \"contents\": [{\"type\": \"text\", \"size\": \"sm\", \"color\": \"#bcbcbc\", \"contents\": [{\"type\": \"span\", \"text\": \"Maker\", \"weight\": \"bold\"}, {\"type\": \"span\", \"text\": \" | \"}, {\"type\": \"span\", \"text\": \"maker_info\"}]}], \"spacing\": \"sm\", \"margin\": \"md\"}, {\"type\": \"box\", \"layout\": \"baseline\", \"contents\": [{\"type\": \"text\", \"size\": \"sm\", \"color\": \"#bcbcbc\", \"contents\": [{\"type\": \"span\", \"text\": \"Tx Hash\", \"weight\": \"bold\"}, {\"type\": \"span\", \"text\": \" | \"}, {\"type\": \"span\", \"text\": \"tx_info\"}]}], \"spacing\": \"none\", \"margin\": \"none\"}]}]}], \"spacing\": \"xl\", \"paddingAll\": \"20px\"}], \"paddingAll\": \"0px\"}, \"footer\": {\"type\": \"box\", \"layout\": \"horizontal\", \"contents\": [{\"type\": \"button\", \"action\": {\"type\": \"uri\", \"label\": \"\\ud1a0\\ud070 \\ud655\\uc778\", \"uri\": \"https://explorer.blockchain.line.me/cashew/transaction/\"}}, {\"type\": \"button\", \"action\": {\"type\": \"uri\", \"label\": \"\\uc74c\\uc545 \\ub4e3\\uae30\", \"uri\": \"https://vibe.naver.com/\"}}]}}\n"
     ]
    }
   ],
   "source": [
    "print(json.dumps(tmp))"
   ],
   "metadata": {
    "collapsed": false,
    "pycharm": {
     "name": "#%%\n"
    }
   }
  },
  {
   "cell_type": "code",
   "execution_count": 79,
   "outputs": [
    {
     "data": {
      "text/plain": "'[{\"type\": \"image\", \"url\": \"https://musicmeta-phinf.pstatic.net/album/007/340/7340567.jpg?type=r480Fll&v=202203210131\", \"size\": \"5xl\", \"aspectMode\": \"cover\", \"aspectRatio\": \"150:196\", \"gravity\": \"center\", \"flex\": 1}, {\"type\": \"box\", \"layout\": \"vertical\", \"contents\": [{\"type\": \"image\", \"url\": \"https://musicmeta-phinf.pstatic.net/album/006/650/6650319.jpg?type=r480Fll&v=202203210131\", \"size\": \"full\", \"aspectMode\": \"cover\", \"aspectRatio\": \"150:98\", \"gravity\": \"center\"}, {\"type\": \"image\", \"url\": \"https://musicmeta-phinf.pstatic.net/album/006/650/6650319.jpg?type=r480Fll&v=202203210131\", \"size\": \"full\", \"aspectMode\": \"cover\", \"aspectRatio\": \"150:98\", \"gravity\": \"center\"}], \"flex\": 1}]'"
     },
     "execution_count": 79,
     "metadata": {},
     "output_type": "execute_result"
    }
   ],
   "source": [
    "json.dumps(make_image(images))"
   ],
   "metadata": {
    "collapsed": false,
    "pycharm": {
     "name": "#%%\n"
    }
   }
  },
  {
   "cell_type": "markdown",
   "source": [],
   "metadata": {
    "collapsed": false
   }
  },
  {
   "cell_type": "code",
   "execution_count": 109,
   "outputs": [
    {
     "data": {
      "text/plain": "'maker_info'"
     },
     "execution_count": 109,
     "metadata": {},
     "output_type": "execute_result"
    }
   ],
   "source": [
    "tmp['body']['contents'][1]['contents'][0]['contents'][1]['contents'][1]['contents'][0]['contents'][2]['text']"
   ],
   "metadata": {
    "collapsed": false,
    "pycharm": {
     "name": "#%%\n"
    }
   }
  },
  {
   "cell_type": "code",
   "execution_count": null,
   "outputs": [],
   "source": [],
   "metadata": {
    "collapsed": false,
    "pycharm": {
     "name": "#%%\n"
    }
   }
  }
 ],
 "metadata": {
  "kernelspec": {
   "display_name": "Python 3",
   "language": "python",
   "name": "python3"
  },
  "language_info": {
   "codemirror_mode": {
    "name": "ipython",
    "version": 2
   },
   "file_extension": ".py",
   "mimetype": "text/x-python",
   "name": "python",
   "nbconvert_exporter": "python",
   "pygments_lexer": "ipython2",
   "version": "2.7.6"
  }
 },
 "nbformat": 4,
 "nbformat_minor": 0
}