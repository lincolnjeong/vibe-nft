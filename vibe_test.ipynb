{
 "cells": [
  {
   "cell_type": "code",
   "execution_count": 1,
   "metadata": {
    "collapsed": true
   },
   "outputs": [],
   "source": [
    "import requests"
   ]
  },
  {
   "cell_type": "code",
   "execution_count": 15,
   "outputs": [],
   "source": [
    "def get_track_meta(query):\n",
    "    url = f'https://apis.naver.com/vibeWeb/musicapiweb/v3/search/track.json?query={query}&start=1&display=100&sort=RELEVANCE'\n",
    "    meta = requests.get(url).json()['response']['result']['tracks'][0]\n",
    "    track_id = meta['trackId']\n",
    "    track_title = meta['trackTitle']\n",
    "    artist_name = \", \".join([i['artistName'] for i in meta['artists']])\n",
    "    album_title = meta['album']['albumTitle']\n",
    "    album_image = meta['album']['imageUrl']\n",
    "    return {'track_id': track_id, 'track_title': track_title, 'artist_name': artist_name, 'album_title': album_title, 'album_image': album_image}"
   ],
   "metadata": {
    "collapsed": false,
    "pycharm": {
     "name": "#%%\n"
    }
   }
  },
  {
   "cell_type": "code",
   "execution_count": 24,
   "outputs": [
    {
     "name": "stdout",
     "output_type": "stream",
     "text": [
      "error on asdfadsf\n"
     ]
    }
   ],
   "source": [
    "query = 'asdfadsf, 우고츄, hustle 도끼, 릴보이, 원슈타인'\n",
    "result = []\n",
    "for q in query.split(','):\n",
    "    try:\n",
    "        result.append(get_track_meta(q))\n",
    "    except:\n",
    "        print(f'error on {q}')"
   ],
   "metadata": {
    "collapsed": false,
    "pycharm": {
     "name": "#%%\n"
    }
   }
  },
  {
   "cell_type": "code",
   "execution_count": 25,
   "outputs": [
    {
     "data": {
      "text/plain": "[{'track_id': 44424939,\n  'track_title': '우리집 고양이 츄르를 좋아해 (Feat. 염따)',\n  'artist_name': 'meenoi (미노이)',\n  'album_title': '우리집 고양이 츄르를 좋아해',\n  'album_image': 'https://musicmeta-phinf.pstatic.net/album/005/242/5242739.jpg?type=r480Fll&v=202203201451'},\n {'track_id': 2458201,\n  'track_title': 'Hustle Real Hard (Feat. Soulja Boy)',\n  'artist_name': '도끼(DOK2)',\n  'album_title': 'Hustle Real Hard',\n  'album_image': 'https://musicmeta-phinf.pstatic.net/album/000/194/194629.jpg?type=r480Fll&v=202203201451'},\n {'track_id': 43626633,\n  'track_title': '내일이 오면 (Feat. 기리보이, BIG Naughty (서동현))',\n  'artist_name': '릴보이(lIlBOI)',\n  'album_title': '쇼미더머니 9 Episode 3',\n  'album_image': 'https://musicmeta-phinf.pstatic.net/album/005/141/5141786.jpg?type=r480Fll&v=202203201451'},\n {'track_id': 54162645,\n  'track_title': '존재만으로',\n  'artist_name': '원슈타인',\n  'album_title': '스물다섯 스물하나 OST Part 4',\n  'album_image': 'https://musicmeta-phinf.pstatic.net/album/007/290/7290004.jpg?type=r480Fll&v=202203201451'}]"
     },
     "execution_count": 25,
     "metadata": {},
     "output_type": "execute_result"
    }
   ],
   "source": [
    "result"
   ],
   "metadata": {
    "collapsed": false,
    "pycharm": {
     "name": "#%%\n"
    }
   }
  },
  {
   "cell_type": "code",
   "execution_count": null,
   "outputs": [],
   "source": [],
   "metadata": {
    "collapsed": false,
    "pycharm": {
     "name": "#%%\n"
    }
   }
  }
 ],
 "metadata": {
  "kernelspec": {
   "display_name": "Python 3",
   "language": "python",
   "name": "python3"
  },
  "language_info": {
   "codemirror_mode": {
    "name": "ipython",
    "version": 2
   },
   "file_extension": ".py",
   "mimetype": "text/x-python",
   "name": "python",
   "nbconvert_exporter": "python",
   "pygments_lexer": "ipython2",
   "version": "2.7.6"
  }
 },
 "nbformat": 4,
 "nbformat_minor": 0
}