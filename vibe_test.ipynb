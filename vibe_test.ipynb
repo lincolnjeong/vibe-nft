{
 "cells": [
  {
   "cell_type": "code",
   "execution_count": 1,
   "metadata": {
    "collapsed": true
   },
   "outputs": [],
   "source": [
    "import requests"
   ]
  },
  {
   "cell_type": "code",
   "execution_count": 15,
   "outputs": [],
   "source": [
    "def get_track_meta(query):\n",
    "    url = f'https://apis.naver.com/vibeWeb/musicapiweb/v3/search/track.json?query={query}&start=1&display=100&sort=RELEVANCE'\n",
    "    meta = requests.get(url).json()['response']['result']['tracks'][0]\n",
    "    track_id = meta['trackId']\n",
    "    track_title = meta['trackTitle']\n",
    "    artist_name = \", \".join([i['artistName'] for i in meta['artists']])\n",
    "    album_title = meta['album']['albumTitle']\n",
    "    album_image = meta['album']['imageUrl']\n",
    "    return {'track_id': track_id, 'track_title': track_title, 'artist_name': artist_name, 'album_title': album_title, 'album_image': album_image}"
   ],
   "metadata": {
    "collapsed": false,
    "pycharm": {
     "name": "#%%\n"
    }
   }
  },
  {
   "cell_type": "code",
   "execution_count": 24,
   "outputs": [
    {
     "name": "stdout",
     "output_type": "stream",
     "text": [
      "error on asdfadsf\n"
     ]
    }
   ],
   "source": [
    "query = 'asdfadsf, 우고츄, hustle 도끼, 릴보이, 원슈타인'\n",
    "result = []\n",
    "for q in query.split(','):\n",
    "    try:\n",
    "        result.append(get_track_meta(q))\n",
    "    except:\n",
    "        print(f'error on {q}')"
   ],
   "metadata": {
    "collapsed": false,
    "pycharm": {
     "name": "#%%\n"
    }
   }
  },
  {
   "cell_type": "code",
   "execution_count": 25,
   "outputs": [
    {
     "data": {
      "text/plain": "[{'track_id': 44424939,\n  'track_title': '우리집 고양이 츄르를 좋아해 (Feat. 염따)',\n  'artist_name': 'meenoi (미노이)',\n  'album_title': '우리집 고양이 츄르를 좋아해',\n  'album_image': 'https://musicmeta-phinf.pstatic.net/album/005/242/5242739.jpg?type=r480Fll&v=202203201451'},\n {'track_id': 2458201,\n  'track_title': 'Hustle Real Hard (Feat. Soulja Boy)',\n  'artist_name': '도끼(DOK2)',\n  'album_title': 'Hustle Real Hard',\n  'album_image': 'https://musicmeta-phinf.pstatic.net/album/000/194/194629.jpg?type=r480Fll&v=202203201451'},\n {'track_id': 43626633,\n  'track_title': '내일이 오면 (Feat. 기리보이, BIG Naughty (서동현))',\n  'artist_name': '릴보이(lIlBOI)',\n  'album_title': '쇼미더머니 9 Episode 3',\n  'album_image': 'https://musicmeta-phinf.pstatic.net/album/005/141/5141786.jpg?type=r480Fll&v=202203201451'},\n {'track_id': 54162645,\n  'track_title': '존재만으로',\n  'artist_name': '원슈타인',\n  'album_title': '스물다섯 스물하나 OST Part 4',\n  'album_image': 'https://musicmeta-phinf.pstatic.net/album/007/290/7290004.jpg?type=r480Fll&v=202203201451'}]"
     },
     "execution_count": 25,
     "metadata": {},
     "output_type": "execute_result"
    }
   ],
   "source": [
    "result"
   ],
   "metadata": {
    "collapsed": false,
    "pycharm": {
     "name": "#%%\n"
    }
   }
  },
  {
   "cell_type": "code",
   "execution_count": 26,
   "outputs": [
    {
     "data": {
      "text/plain": "str"
     },
     "execution_count": 26,
     "metadata": {},
     "output_type": "execute_result"
    }
   ],
   "source": [
    "type('d')"
   ],
   "metadata": {
    "collapsed": false,
    "pycharm": {
     "name": "#%%\n"
    }
   }
  },
  {
   "cell_type": "code",
   "execution_count": 27,
   "outputs": [
    {
     "data": {
      "text/plain": "list"
     },
     "execution_count": 27,
     "metadata": {},
     "output_type": "execute_result"
    }
   ],
   "source": [
    "type(['d'])"
   ],
   "metadata": {
    "collapsed": false,
    "pycharm": {
     "name": "#%%\n"
    }
   }
  },
  {
   "cell_type": "code",
   "execution_count": 28,
   "outputs": [
    {
     "data": {
      "text/plain": "['asdfasdfasdf']"
     },
     "execution_count": 28,
     "metadata": {},
     "output_type": "execute_result"
    }
   ],
   "source": [
    "'asdfasdfasdf'.split('./etqw')"
   ],
   "metadata": {
    "collapsed": false,
    "pycharm": {
     "name": "#%%\n"
    }
   }
  },
  {
   "cell_type": "code",
   "execution_count": 31,
   "outputs": [
    {
     "data": {
      "text/plain": "'/mint '"
     },
     "execution_count": 31,
     "metadata": {},
     "output_type": "execute_result"
    }
   ],
   "source": [
    "'/mint asdfasdfasdf'[:6]"
   ],
   "metadata": {
    "collapsed": false,
    "pycharm": {
     "name": "#%%\n"
    }
   }
  },
  {
   "cell_type": "code",
   "execution_count": 33,
   "outputs": [
    {
     "data": {
      "text/plain": "'asdfasdfasdf'"
     },
     "execution_count": 33,
     "metadata": {},
     "output_type": "execute_result"
    }
   ],
   "source": [
    "'/mint asdfasdfasdf'.replace('/mint ', '')"
   ],
   "metadata": {
    "collapsed": false,
    "pycharm": {
     "name": "#%%\n"
    }
   }
  },
  {
   "cell_type": "code",
   "execution_count": 35,
   "outputs": [],
   "source": [
    "import json\n",
    "def get_template():\n",
    "    return json.loads(\"\"\"{\n",
    "        \"type\": \"bubble\",\n",
    "        \"body\": {\n",
    "            \"type\": \"box\",\n",
    "            \"layout\": \"vertical\",\n",
    "            \"contents\": [\n",
    "                {\n",
    "                    \"type\": \"box\",\n",
    "                    \"layout\": \"horizontal\",\n",
    "                    \"contents\": {\n",
    "                        \"type\": \"image\",\n",
    "                        \"url\": \"image_url\",\n",
    "                        \"size\": \"5xl\",\n",
    "                        \"aspectMode\": \"cover\",\n",
    "                        \"aspectRatio\": \"300:196\",\n",
    "                        \"gravity\": \"center\",\n",
    "                        \"flex\": 1\n",
    "                    }\n",
    "                },\n",
    "                {\n",
    "                    \"type\": \"box\",\n",
    "                    \"layout\": \"horizontal\",\n",
    "                    \"contents\": [\n",
    "                        {\n",
    "                            \"type\": \"box\",\n",
    "                            \"layout\": \"vertical\",\n",
    "                            \"contents\": [\n",
    "                                {\n",
    "                                    \"type\": \"text\",\n",
    "                                    \"contents\": [\n",
    "                                        {\n",
    "                                            \"type\": \"span\",\n",
    "                                            \"text\": \"Tracks\",\n",
    "                                            \"weight\": \"bold\",\n",
    "                                            \"color\": \"#000000\"\n",
    "                                        },\n",
    "                                        {\n",
    "                                            \"type\": \"span\",\n",
    "                                            \"text\": \" | \"\n",
    "                                        },\n",
    "                                        {\n",
    "                                            \"type\": \"span\",\n",
    "                                            \"text\": \"track_info\"\n",
    "                                        }\n",
    "                                    ],\n",
    "                                    \"size\": \"sm\",\n",
    "                                    \"wrap\": True\n",
    "                                },\n",
    "                                {\n",
    "                                    \"type\": \"text\",\n",
    "                                    \"contents\": [\n",
    "                                        {\n",
    "                                            \"type\": \"span\",\n",
    "                                            \"text\": \"위 정보로 NFT가 발행되었습니다.\",\n",
    "                                            \"weight\": \"bold\",\n",
    "                                            \"color\": \"#000000\"\n",
    "                                        }\n",
    "                                    ],\n",
    "                                    \"size\": \"sm\",\n",
    "                                    \"wrap\": True\n",
    "                                },\n",
    "                                {\n",
    "                                    \"type\": \"box\",\n",
    "                                    \"layout\": \"baseline\",\n",
    "                                    \"contents\": [\n",
    "                                        {\n",
    "                                            \"type\": \"text\",\n",
    "                                            \"text\": \"\",\n",
    "                                            \"size\": \"sm\",\n",
    "                                            \"color\": \"#bcbcbc\",\n",
    "                                            \"contents\": [\n",
    "                                                {\n",
    "                                                    \"type\": \"span\",\n",
    "                                                    \"text\": \"Maker ID\"\n",
    "                                                },\n",
    "                                                {\n",
    "                                                    \"type\": \"span\",\n",
    "                                                    \"text\": \" | \"\n",
    "                                                },\n",
    "                                                {\n",
    "                                                    \"type\": \"span\",\n",
    "                                                    \"text\": \"user_info\"\n",
    "                                                }\n",
    "                                            ]\n",
    "                                        }\n",
    "                                    ],\n",
    "                                    \"spacing\": \"sm\",\n",
    "                                    \"margin\": \"md\"\n",
    "                                },\n",
    "                                {\n",
    "                                    \"type\": \"box\",\n",
    "                                    \"layout\": \"baseline\",\n",
    "                                    \"contents\": [\n",
    "                                        {\n",
    "                                            \"type\": \"text\",\n",
    "                                            \"text\": \"\",\n",
    "                                            \"size\": \"sm\",\n",
    "                                            \"color\": \"#bcbcbc\",\n",
    "                                            \"contents\": [\n",
    "                                                {\n",
    "                                                    \"type\": \"span\",\n",
    "                                                    \"text\": \"Tx ID\"\n",
    "                                                },\n",
    "                                                {\n",
    "                                                    \"type\": \"span\",\n",
    "                                                    \"text\": \" | \"\n",
    "                                                },\n",
    "                                                {\n",
    "                                                    \"type\": \"span\",\n",
    "                                                    \"text\": \"tx_id\"\n",
    "                                                }\n",
    "                                            ]\n",
    "                                        }\n",
    "                                    ],\n",
    "                                    \"margin\": \"none\",\n",
    "                                    \"spacing\": \"none\"\n",
    "                                }\n",
    "                            ]\n",
    "                        }\n",
    "                    ],\n",
    "                    \"spacing\": \"xl\",\n",
    "                    \"paddingAll\": \"20px\"\n",
    "                }\n",
    "            ],\n",
    "            \"paddingAll\": \"0px\"\n",
    "        },\n",
    "        \"footer\": {\n",
    "            \"type\": \"box\",\n",
    "            \"layout\": \"vertical\",\n",
    "            \"contents\": [\n",
    "                {\n",
    "                    \"type\": \"button\",\n",
    "                    \"action\": {\n",
    "                        \"type\": \"uri\",\n",
    "                        \"label\": \"토큰 확인\",\n",
    "                        \"uri\": \"https://explorer.blockchain.line.me/cashew/transaction/\"\n",
    "                    }\n",
    "                }\n",
    "            ]\n",
    "        }\n",
    "    }\"\"\")"
   ],
   "metadata": {
    "collapsed": false,
    "pycharm": {
     "name": "#%%\n"
    }
   }
  },
  {
   "cell_type": "code",
   "execution_count": 36,
   "outputs": [
    {
     "ename": "JSONDecodeError",
     "evalue": "Expecting value: line 47 column 45 (char 1910)",
     "output_type": "error",
     "traceback": [
      "\u001B[0;31m---------------------------------------------------------------------------\u001B[0m",
      "\u001B[0;31mJSONDecodeError\u001B[0m                           Traceback (most recent call last)",
      "\u001B[0;32m/var/folders/95/r78_0r911ts9_52j1102lfz00000gn/T/ipykernel_92238/1891126746.py\u001B[0m in \u001B[0;36m<module>\u001B[0;34m\u001B[0m\n\u001B[0;32m----> 1\u001B[0;31m \u001B[0mtmp\u001B[0m \u001B[0;34m=\u001B[0m \u001B[0mget_template\u001B[0m\u001B[0;34m(\u001B[0m\u001B[0;34m)\u001B[0m\u001B[0;34m\u001B[0m\u001B[0;34m\u001B[0m\u001B[0m\n\u001B[0m",
      "\u001B[0;32m/var/folders/95/r78_0r911ts9_52j1102lfz00000gn/T/ipykernel_92238/2435373085.py\u001B[0m in \u001B[0;36mget_template\u001B[0;34m()\u001B[0m\n\u001B[1;32m      1\u001B[0m \u001B[0;32mimport\u001B[0m \u001B[0mjson\u001B[0m\u001B[0;34m\u001B[0m\u001B[0;34m\u001B[0m\u001B[0m\n\u001B[1;32m      2\u001B[0m \u001B[0;32mdef\u001B[0m \u001B[0mget_template\u001B[0m\u001B[0;34m(\u001B[0m\u001B[0;34m)\u001B[0m\u001B[0;34m:\u001B[0m\u001B[0;34m\u001B[0m\u001B[0;34m\u001B[0m\u001B[0m\n\u001B[0;32m----> 3\u001B[0;31m     return json.loads(\"\"\"{\n\u001B[0m\u001B[1;32m      4\u001B[0m         \u001B[0;34m\"type\"\u001B[0m\u001B[0;34m:\u001B[0m \u001B[0;34m\"bubble\"\u001B[0m\u001B[0;34m,\u001B[0m\u001B[0;34m\u001B[0m\u001B[0;34m\u001B[0m\u001B[0m\n\u001B[1;32m      5\u001B[0m         \"body\": {\n",
      "\u001B[0;32m~/opt/anaconda3/lib/python3.8/json/__init__.py\u001B[0m in \u001B[0;36mloads\u001B[0;34m(s, cls, object_hook, parse_float, parse_int, parse_constant, object_pairs_hook, **kw)\u001B[0m\n\u001B[1;32m    355\u001B[0m             \u001B[0mparse_int\u001B[0m \u001B[0;32mis\u001B[0m \u001B[0;32mNone\u001B[0m \u001B[0;32mand\u001B[0m \u001B[0mparse_float\u001B[0m \u001B[0;32mis\u001B[0m \u001B[0;32mNone\u001B[0m \u001B[0;32mand\u001B[0m\u001B[0;34m\u001B[0m\u001B[0;34m\u001B[0m\u001B[0m\n\u001B[1;32m    356\u001B[0m             parse_constant is None and object_pairs_hook is None and not kw):\n\u001B[0;32m--> 357\u001B[0;31m         \u001B[0;32mreturn\u001B[0m \u001B[0m_default_decoder\u001B[0m\u001B[0;34m.\u001B[0m\u001B[0mdecode\u001B[0m\u001B[0;34m(\u001B[0m\u001B[0ms\u001B[0m\u001B[0;34m)\u001B[0m\u001B[0;34m\u001B[0m\u001B[0;34m\u001B[0m\u001B[0m\n\u001B[0m\u001B[1;32m    358\u001B[0m     \u001B[0;32mif\u001B[0m \u001B[0mcls\u001B[0m \u001B[0;32mis\u001B[0m \u001B[0;32mNone\u001B[0m\u001B[0;34m:\u001B[0m\u001B[0;34m\u001B[0m\u001B[0;34m\u001B[0m\u001B[0m\n\u001B[1;32m    359\u001B[0m         \u001B[0mcls\u001B[0m \u001B[0;34m=\u001B[0m \u001B[0mJSONDecoder\u001B[0m\u001B[0;34m\u001B[0m\u001B[0;34m\u001B[0m\u001B[0m\n",
      "\u001B[0;32m~/opt/anaconda3/lib/python3.8/json/decoder.py\u001B[0m in \u001B[0;36mdecode\u001B[0;34m(self, s, _w)\u001B[0m\n\u001B[1;32m    335\u001B[0m \u001B[0;34m\u001B[0m\u001B[0m\n\u001B[1;32m    336\u001B[0m         \"\"\"\n\u001B[0;32m--> 337\u001B[0;31m         \u001B[0mobj\u001B[0m\u001B[0;34m,\u001B[0m \u001B[0mend\u001B[0m \u001B[0;34m=\u001B[0m \u001B[0mself\u001B[0m\u001B[0;34m.\u001B[0m\u001B[0mraw_decode\u001B[0m\u001B[0;34m(\u001B[0m\u001B[0ms\u001B[0m\u001B[0;34m,\u001B[0m \u001B[0midx\u001B[0m\u001B[0;34m=\u001B[0m\u001B[0m_w\u001B[0m\u001B[0;34m(\u001B[0m\u001B[0ms\u001B[0m\u001B[0;34m,\u001B[0m \u001B[0;36m0\u001B[0m\u001B[0;34m)\u001B[0m\u001B[0;34m.\u001B[0m\u001B[0mend\u001B[0m\u001B[0;34m(\u001B[0m\u001B[0;34m)\u001B[0m\u001B[0;34m)\u001B[0m\u001B[0;34m\u001B[0m\u001B[0;34m\u001B[0m\u001B[0m\n\u001B[0m\u001B[1;32m    338\u001B[0m         \u001B[0mend\u001B[0m \u001B[0;34m=\u001B[0m \u001B[0m_w\u001B[0m\u001B[0;34m(\u001B[0m\u001B[0ms\u001B[0m\u001B[0;34m,\u001B[0m \u001B[0mend\u001B[0m\u001B[0;34m)\u001B[0m\u001B[0;34m.\u001B[0m\u001B[0mend\u001B[0m\u001B[0;34m(\u001B[0m\u001B[0;34m)\u001B[0m\u001B[0;34m\u001B[0m\u001B[0;34m\u001B[0m\u001B[0m\n\u001B[1;32m    339\u001B[0m         \u001B[0;32mif\u001B[0m \u001B[0mend\u001B[0m \u001B[0;34m!=\u001B[0m \u001B[0mlen\u001B[0m\u001B[0;34m(\u001B[0m\u001B[0ms\u001B[0m\u001B[0;34m)\u001B[0m\u001B[0;34m:\u001B[0m\u001B[0;34m\u001B[0m\u001B[0;34m\u001B[0m\u001B[0m\n",
      "\u001B[0;32m~/opt/anaconda3/lib/python3.8/json/decoder.py\u001B[0m in \u001B[0;36mraw_decode\u001B[0;34m(self, s, idx)\u001B[0m\n\u001B[1;32m    353\u001B[0m             \u001B[0mobj\u001B[0m\u001B[0;34m,\u001B[0m \u001B[0mend\u001B[0m \u001B[0;34m=\u001B[0m \u001B[0mself\u001B[0m\u001B[0;34m.\u001B[0m\u001B[0mscan_once\u001B[0m\u001B[0;34m(\u001B[0m\u001B[0ms\u001B[0m\u001B[0;34m,\u001B[0m \u001B[0midx\u001B[0m\u001B[0;34m)\u001B[0m\u001B[0;34m\u001B[0m\u001B[0;34m\u001B[0m\u001B[0m\n\u001B[1;32m    354\u001B[0m         \u001B[0;32mexcept\u001B[0m \u001B[0mStopIteration\u001B[0m \u001B[0;32mas\u001B[0m \u001B[0merr\u001B[0m\u001B[0;34m:\u001B[0m\u001B[0;34m\u001B[0m\u001B[0;34m\u001B[0m\u001B[0m\n\u001B[0;32m--> 355\u001B[0;31m             \u001B[0;32mraise\u001B[0m \u001B[0mJSONDecodeError\u001B[0m\u001B[0;34m(\u001B[0m\u001B[0;34m\"Expecting value\"\u001B[0m\u001B[0;34m,\u001B[0m \u001B[0ms\u001B[0m\u001B[0;34m,\u001B[0m \u001B[0merr\u001B[0m\u001B[0;34m.\u001B[0m\u001B[0mvalue\u001B[0m\u001B[0;34m)\u001B[0m \u001B[0;32mfrom\u001B[0m \u001B[0;32mNone\u001B[0m\u001B[0;34m\u001B[0m\u001B[0;34m\u001B[0m\u001B[0m\n\u001B[0m\u001B[1;32m    356\u001B[0m         \u001B[0;32mreturn\u001B[0m \u001B[0mobj\u001B[0m\u001B[0;34m,\u001B[0m \u001B[0mend\u001B[0m\u001B[0;34m\u001B[0m\u001B[0;34m\u001B[0m\u001B[0m\n",
      "\u001B[0;31mJSONDecodeError\u001B[0m: Expecting value: line 47 column 45 (char 1910)"
     ]
    }
   ],
   "source": [
    "tmp = get_template()"
   ],
   "metadata": {
    "collapsed": false,
    "pycharm": {
     "name": "#%%\n"
    }
   }
  },
  {
   "cell_type": "code",
   "execution_count": null,
   "outputs": [],
   "source": [],
   "metadata": {
    "collapsed": false,
    "pycharm": {
     "name": "#%%\n"
    }
   }
  }
 ],
 "metadata": {
  "kernelspec": {
   "display_name": "Python 3",
   "language": "python",
   "name": "python3"
  },
  "language_info": {
   "codemirror_mode": {
    "name": "ipython",
    "version": 2
   },
   "file_extension": ".py",
   "mimetype": "text/x-python",
   "name": "python",
   "nbconvert_exporter": "python",
   "pygments_lexer": "ipython2",
   "version": "2.7.6"
  }
 },
 "nbformat": 4,
 "nbformat_minor": 0
}